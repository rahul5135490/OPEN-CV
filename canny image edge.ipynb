{
 "cells": [
  {
   "cell_type": "code",
   "execution_count": 1,
   "id": "edc8b164-2b54-490d-a969-07cf2ddec0f4",
   "metadata": {},
   "outputs": [],
   "source": [
    "import cv2\n",
    "import numpy as np\n",
    "import os\n",
    "from scipy import ndimage"
   ]
  },
  {
   "cell_type": "code",
   "execution_count": 2,
   "id": "63da5908-dbf0-49bc-94c5-d962157ed7e2",
   "metadata": {},
   "outputs": [],
   "source": [
    "img=cv2.imread(\"lena5.jpg\")"
   ]
  },
  {
   "cell_type": "code",
   "execution_count": 3,
   "id": "de0b3efb",
   "metadata": {},
   "outputs": [],
   "source": [
    "canny_img=cv2.Canny(img,200,300)"
   ]
  },
  {
   "cell_type": "code",
   "execution_count": 4,
   "id": "a5b4b48b",
   "metadata": {},
   "outputs": [
    {
     "name": "stdout",
     "output_type": "stream",
     "text": [
      "[[[118 134 223]\n",
      "  [118 134 223]\n",
      "  [118 134 223]\n",
      "  ...\n",
      "  [131 148 215]\n",
      "  [121 139 204]\n",
      "  [113 131 196]]\n",
      "\n",
      " [[118 134 223]\n",
      "  [118 134 223]\n",
      "  [118 134 223]\n",
      "  ...\n",
      "  [133 150 217]\n",
      "  [122 138 204]\n",
      "  [113 131 196]]\n",
      "\n",
      " [[118 134 223]\n",
      "  [118 134 223]\n",
      "  [118 134 223]\n",
      "  ...\n",
      "  [133 149 216]\n",
      "  [122 136 202]\n",
      "  [111 127 193]]\n",
      "\n",
      " ...\n",
      "\n",
      " [[ 66  27  95]\n",
      "  [ 66  27  95]\n",
      "  [ 66  27  95]\n",
      "  ...\n",
      "  [104  77 157]\n",
      "  [107  80 160]\n",
      "  [109  82 162]]\n",
      "\n",
      " [[ 66  27  95]\n",
      "  [ 66  27  95]\n",
      "  [ 66  27  95]\n",
      "  ...\n",
      "  [107  80 160]\n",
      "  [110  83 163]\n",
      "  [112  85 165]]\n",
      "\n",
      " [[ 66  27  95]\n",
      "  [ 66  27  95]\n",
      "  [ 66  27  95]\n",
      "  ...\n",
      "  [109  82 162]\n",
      "  [112  85 165]\n",
      "  [114  87 167]]]\n"
     ]
    }
   ],
   "source": [
    "print(img)"
   ]
  },
  {
   "cell_type": "code",
   "execution_count": null,
   "id": "de882780",
   "metadata": {},
   "outputs": [],
   "source": [
    "cv2.imshow(\"Original Image\",img)\n",
    "cv2.imshow(\"3X3 image\",canny_img)\n",
    "cv2.waitKey(0)\n",
    "cv2.destroyAllWindows()"
   ]
  },
  {
   "cell_type": "code",
   "execution_count": null,
   "id": "c015219a",
   "metadata": {},
   "outputs": [],
   "source": []
  }
 ],
 "metadata": {
  "kernelspec": {
   "display_name": "Python 3 (ipykernel)",
   "language": "python",
   "name": "python3"
  },
  "language_info": {
   "codemirror_mode": {
    "name": "ipython",
    "version": 3
   },
   "file_extension": ".py",
   "mimetype": "text/x-python",
   "name": "python",
   "nbconvert_exporter": "python",
   "pygments_lexer": "ipython3",
   "version": "3.9.13"
  }
 },
 "nbformat": 4,
 "nbformat_minor": 5
}
