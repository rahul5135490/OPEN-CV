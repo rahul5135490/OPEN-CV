{
 "cells": [
  {
   "cell_type": "code",
   "execution_count": 1,
   "id": "edc8b164-2b54-490d-a969-07cf2ddec0f4",
   "metadata": {},
   "outputs": [],
   "source": [
    "import cv2\n",
    "import numpy as np\n",
    "import os\n",
    "from scipy import ndimage"
   ]
  },
  {
   "cell_type": "code",
   "execution_count": 2,
   "id": "63da5908-dbf0-49bc-94c5-d962157ed7e2",
   "metadata": {},
   "outputs": [],
   "source": [
    "img=cv2.imread(\"lena5.jpg\")"
   ]
  },
  {
   "cell_type": "code",
   "execution_count": 3,
   "id": "320d3efe",
   "metadata": {},
   "outputs": [],
   "source": [
    "kernal_3X3=np.array([[-1,-1,-1],[-1,8,-1],[-1,-1,-1]])"
   ]
  },
  {
   "cell_type": "code",
   "execution_count": 4,
   "id": "76bbd058",
   "metadata": {},
   "outputs": [],
   "source": [
    "img2=cv2.cvtColor(img,cv2.COLOR_BGR2GRAY)\n",
    "k3=ndimage.convolve(img2,kernal_3X3)"
   ]
  },
  {
   "cell_type": "code",
   "execution_count": null,
   "id": "de882780",
   "metadata": {},
   "outputs": [],
   "source": [
    "cv2.imshow(\"Original Image\",img)\n",
    "cv2.imshow(\"3X3 image\",k3)\n",
    "cv2.waitKey(0)\n",
    "cv2.destroyAllWindows()"
   ]
  },
  {
   "cell_type": "code",
   "execution_count": null,
   "id": "f2602fc5",
   "metadata": {},
   "outputs": [],
   "source": []
  }
 ],
 "metadata": {
  "kernelspec": {
   "display_name": "Python 3 (ipykernel)",
   "language": "python",
   "name": "python3"
  },
  "language_info": {
   "codemirror_mode": {
    "name": "ipython",
    "version": 3
   },
   "file_extension": ".py",
   "mimetype": "text/x-python",
   "name": "python",
   "nbconvert_exporter": "python",
   "pygments_lexer": "ipython3",
   "version": "3.11.4"
  }
 },
 "nbformat": 4,
 "nbformat_minor": 5
}
